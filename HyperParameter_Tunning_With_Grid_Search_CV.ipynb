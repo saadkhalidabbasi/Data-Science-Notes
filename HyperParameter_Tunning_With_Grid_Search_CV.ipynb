{
  "nbformat": 4,
  "nbformat_minor": 0,
  "metadata": {
    "colab": {
      "provenance": [],
      "authorship_tag": "ABX9TyM6j6PKAGYzXyAHaZPJn9dn",
      "include_colab_link": true
    },
    "kernelspec": {
      "name": "python3",
      "display_name": "Python 3"
    },
    "language_info": {
      "name": "python"
    }
  },
  "cells": [
    {
      "cell_type": "markdown",
      "metadata": {
        "id": "view-in-github",
        "colab_type": "text"
      },
      "source": [
        "<a href=\"https://colab.research.google.com/github/saadkhalidabbasi/Data-Science-Notes/blob/main/HyperParameter_Tunning_With_Grid_Search_CV.ipynb\" target=\"_parent\"><img src=\"https://colab.research.google.com/assets/colab-badge.svg\" alt=\"Open In Colab\"/></a>"
      ]
    },
    {
      "cell_type": "markdown",
      "source": [
        "##**Best Model Slection by using different Parameters**"
      ],
      "metadata": {
        "id": "81eXF_n_oH2m"
      }
    },
    {
      "cell_type": "code",
      "execution_count": 29,
      "metadata": {
        "colab": {
          "base_uri": "https://localhost:8080/"
        },
        "id": "9JbgoLM-oAA5",
        "outputId": "cca8337c-6ff8-4578-e7c6-0862981ebd9e"
      },
      "outputs": [
        {
          "output_type": "stream",
          "name": "stdout",
          "text": [
            "Best Parameter for Decision Tree Classifier is: {'max_depth': 3, 'min_samples_split': 2}\n",
            "Best Score for Decision Tree Classifier is: 0.7049086686334818\n",
            "Accuracy Score for Decision Tree Classifier is: 0.7486033519553073\n",
            "\n",
            "\n",
            "Best Parameter for Random Forest Classifier is: {'max_depth': 5, 'max_features': 'log2', 'min_samples_split': 10, 'n_estimators': 50}\n",
            "Best Score for Random Forest Classifier is: 0.7374803841566757\n",
            "Accuracy Score for Random Forest Classifier is: 0.7877094972067039\n",
            "\n",
            "\n",
            "Best Parameter for KNN Classifier is: {'n_neighbors': 7, 'weights': 'uniform'}\n",
            "Best Score for KNN Classifier is: 0.6622748101186365\n",
            "Accuracy Score for KNN Classifier is: 0.770949720670391\n",
            "\n",
            "\n"
          ]
        }
      ],
      "source": [
        "# Importing Libraries\n",
        "import pandas as pd\n",
        "import numpy as np\n",
        "import matplotlib.pyplot as plt\n",
        "import seaborn as sns\n",
        "\n",
        "# Importing Dataset\n",
        "df=sns.load_dataset('titanic')\n",
        "# Filling Empty Values  and label encoding\n",
        "df['age']=df['age'].fillna(df['age'].mean())\n",
        "df=pd.get_dummies(df,columns=['sex'])\n",
        "\n",
        "# Assigning values to x and y\n",
        "x=df[['pclass','age','parch','fare','sibsp']]\n",
        "y=df['survived']\n",
        "\n",
        "# Importing Machine Learning Libraries\n",
        "from sklearn.model_selection import train_test_split\n",
        "from sklearn.tree import DecisionTreeClassifier\n",
        "from sklearn.ensemble import RandomForestClassifier\n",
        "from sklearn.neighbors import KNeighborsClassifier\n",
        "from sklearn.metrics import accuracy_score\n",
        "from sklearn.model_selection import GridSearchCV\n",
        "\n",
        "# Importing Parameter for Each Classification Algorithm\n",
        "# Param for Decision Tree Classifier\n",
        "\n",
        "pram_cv={\n",
        "      'max_depth': [3, 5, 7],\n",
        "    'min_samples_split': [2, 5, 10],\n",
        "}\n",
        "# Param for Random Forest\n",
        "pram_cvv={\n",
        "    'n_estimators': [10, 50, 100],\n",
        "    'max_depth': [3, 5, 7],\n",
        "    'min_samples_split': [2, 5, 10],\n",
        "    'max_features': ['sqrt', 'log2'],\n",
        "}\n",
        "# Param for KNN\n",
        "pram_cvvv={\n",
        "    'n_neighbors': [3, 5, 7],\n",
        "    'weights': ['uniform', 'distance'],\n",
        "}\n",
        "\n",
        "# Making a list of models with their names and param values\n",
        "models=[\n",
        "    (DecisionTreeClassifier(),pram_cv,\"Decision Tree Classifier\"),\n",
        "    (RandomForestClassifier(),pram_cvv,\"Random Forest Classifier\"),\n",
        "    (KNeighborsClassifier(),pram_cvvv,\"KNN Classifier\",)\n",
        "    ]\n",
        "\n",
        "# Using For Loop to check the accuracy and best parameter for each model\n",
        "for model,param,model_name in models:\n",
        "    grid_search = GridSearchCV(model,param,cv=5,scoring='accuracy')\n",
        "    grid_search.fit(x, y)\n",
        "\n",
        "    print(\"Best Parameter for\",model_name,\"is:\",grid_search.best_params_)\n",
        "    print(\"Best Score for\",model_name,\"is:\",grid_search.best_score_)\n",
        "\n",
        "    # For Testing Data\n",
        "    x_train,x_test,y_train,y_test=train_test_split(x,y,test_size=0.2,random_state=42)\n",
        "    y_pred=grid_search.predict(x_test)\n",
        "    print(\"Accuracy Score for\",model_name,\"is:\",accuracy_score(y_test,y_pred))\n",
        "    print(\"\\n\")"
      ]
    }
  ]
}